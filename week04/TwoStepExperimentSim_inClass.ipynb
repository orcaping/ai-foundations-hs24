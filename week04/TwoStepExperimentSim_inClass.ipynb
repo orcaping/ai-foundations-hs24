{
 "cells": [
  {
   "cell_type": "code",
   "execution_count": 1,
   "metadata": {
    "collapsed": false
   },
   "outputs": [],
   "source": [
    "import random\n",
    "import matplotlib.pyplot as plt\n",
    "import numpy as np"
   ]
  },
  {
   "cell_type": "code",
   "execution_count": 2,
   "metadata": {
    "collapsed": false
   },
   "outputs": [],
   "source": [
    "biases = [.5, .7, .1]\n",
    "\n",
    "# sum up the outcomes.\n",
    "coin_counts = [0, 0, 0]\n",
    "side_counts = [0, 0]\n"
   ]
  },
  {
   "cell_type": "code",
   "execution_count": 3,
   "metadata": {
    "collapsed": false
   },
   "outputs": [
    {
     "name": "stdout",
     "output_type": "stream",
     "text": [
      "coin: 1\n",
      "bias: 0.7\n"
     ]
    }
   ],
   "source": [
    "# step 1: pick a coin and get its bias\n",
    "# choose randomly from {0, 1, 2}\n",
    "coin = random.choice([0, 1, 2])\n",
    "print(\"coin: {}\".format(coin))\n",
    "\n",
    "probability_of_heads = biases[coin]\n",
    "print(\"bias: {}\".format(probability_of_heads))\n",
    "\n",
    "coin_counts[coin]+=1"
   ]
  },
  {
   "cell_type": "code",
   "execution_count": 4,
   "metadata": {
    "collapsed": false
   },
   "outputs": [
    {
     "name": "stdout",
     "output_type": "stream",
     "text": [
      "0\n"
     ]
    }
   ],
   "source": [
    "# step 2: flip the biased coin\n",
    "side = random.choices([0, 1], [probability_of_heads, 1 - probability_of_heads])[0]\n",
    "print(side)\n",
    "\n",
    "\n",
    "# alternative implementation using the binomial distribution in numpy random:\n",
    "side = np.random.binomial(1,probability_of_heads)"
   ]
  },
  {
   "cell_type": "code",
   "execution_count": 5,
   "metadata": {
    "collapsed": false
   },
   "outputs": [
    {
     "name": "stdout",
     "output_type": "stream",
     "text": [
      "coin:2\n",
      "coin_counts: [0, 1, 1]\n",
      "side:1\n",
      "counts: [0, 1]\n"
     ]
    }
   ],
   "source": [
    "coin = random.choice([0, 1, 2])\n",
    "print(\"coin:{}\".format(coin))\n",
    "coin_counts[coin] += 1\n",
    "print(\"coin_counts: {}\".format(coin_counts))\n",
    "probability_of_heads = biases[coin]\n",
    "side = random.choices([0, 1], [probability_of_heads, 1 - probability_of_heads])[0]\n",
    "print(\"side:{}\".format(side))\n",
    "side_counts[side] +=1\n",
    "print(\"counts: {}\".format(side_counts))"
   ]
  },
  {
   "cell_type": "code",
   "execution_count": 6,
   "metadata": {
    "collapsed": false
   },
   "outputs": [],
   "source": [
    "for i in range(10):\n",
    "    pass\n",
    "    # your code\n"
   ]
  },
  {
   "cell_type": "code",
   "execution_count": null,
   "metadata": {
    "collapsed": false
   },
   "outputs": [],
   "source": [
    "# now visualize the output (for example using plt.bar() )"
   ]
  },
  {
   "cell_type": "code",
   "execution_count": null,
   "metadata": {
    "collapsed": false
   },
   "outputs": [],
   "source": []
  }
 ],
 "metadata": {
  "kernelspec": {
   "display_name": "Python 3",
   "language": "python",
   "name": "python3"
  },
  "language_info": {
   "codemirror_mode": {
    "name": "ipython",
    "version": 3
   },
   "file_extension": ".py",
   "mimetype": "text/x-python",
   "name": "python",
   "nbconvert_exporter": "python",
   "pygments_lexer": "ipython3",
   "version": "3.12.2"
  }
 },
 "nbformat": 4,
 "nbformat_minor": 0
}
