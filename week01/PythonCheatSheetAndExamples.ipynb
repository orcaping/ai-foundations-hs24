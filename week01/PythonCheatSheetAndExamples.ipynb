{
 "cells": [
  {
   "cell_type": "markdown",
   "metadata": {},
   "source": [
    "## Part 1: Control Structures"
   ]
  },
  {
   "cell_type": "code",
   "execution_count": 1,
   "metadata": {},
   "outputs": [
    {
     "name": "stdout",
     "output_type": "stream",
     "text": [
      "3.10.4 (main, Mar 31 2022, 03:37:37) [Clang 12.0.0 ]\n"
     ]
    }
   ],
   "source": [
    "#display the python version:\n",
    "import sys\n",
    "print(sys.version)"
   ]
  },
  {
   "cell_type": "code",
   "execution_count": 2,
   "metadata": {},
   "outputs": [
    {
     "name": "stdout",
     "output_type": "stream",
     "text": [
      "123\n",
      "hello world\n"
     ]
    }
   ],
   "source": [
    "# declare a variable\n",
    "myVar = 123\n",
    "print(myVar)\n",
    "someText = \"hello world\"\n",
    "print(someText)"
   ]
  },
  {
   "cell_type": "code",
   "execution_count": 3,
   "metadata": {},
   "outputs": [
    {
     "name": "stdout",
     "output_type": "stream",
     "text": [
      "This is a string, not a number: 123\n",
      "len(txt) = 35\n",
      "len(txt) = 35\n",
      "********** indexing **********\n",
      "This\n",
      "This\n",
      "g, not a number: 123\n",
      "umber: 123\n"
     ]
    }
   ],
   "source": [
    "# String Operations:\n",
    "\n",
    "txt = \"This is a string, not a number: 123\"\n",
    "print(txt)\n",
    "\n",
    "length_of_txt = len(txt) # get the length\n",
    "print(\"len(txt) = {0}\".format(length_of_txt)) # string interpolation\n",
    "length_of_txt_as_string = str(length_of_txt) # int to string conversion\n",
    "print(\"len(txt) = \" + length_of_txt_as_string) # string concatenation\n",
    "\n",
    "print(\"********** indexing **********\")\n",
    "print(txt[0:4])   # indexing starts at 0, upper index is not included\n",
    "print(txt[:4]) # omit lower index -> start at 0\n",
    "print(txt[15:]) # omit upper index -> slice to end\n",
    "print(txt[-10:])  # count backwards from end\n",
    "\n"
   ]
  },
  {
   "cell_type": "code",
   "execution_count": 4,
   "metadata": {},
   "outputs": [
    {
     "name": "stdout",
     "output_type": "stream",
     "text": [
      "1\n",
      "2\n",
      "3\n",
      "4\n",
      "5\n"
     ]
    }
   ],
   "source": [
    "#simple for loop.\n",
    "for i in range (1, 6):\n",
    "    print(i)\n"
   ]
  },
  {
   "cell_type": "code",
   "execution_count": 5,
   "metadata": {},
   "outputs": [
    {
     "name": "stdout",
     "output_type": "stream",
     "text": [
      "1 times 1 is 1\n",
      "3 times 3 is 9\n",
      "5 times 5 is 25\n",
      "this is outside the loop\n"
     ]
    }
   ],
   "source": [
    "# the range is not including the upper bound!\n",
    "# the \"body\" of the for block is defined by indentation. it can have multiple lines\n",
    "# building a string from variables is known as \"string interpolation\".\n",
    "for i in range (1, 7, 2):\n",
    "    squared_i = i**2\n",
    "    print(\"{0} times {0} is {1}\".format(i,squared_i))\n",
    "print(\"this is outside the loop\")"
   ]
  },
  {
   "cell_type": "code",
   "execution_count": 6,
   "metadata": {},
   "outputs": [
    {
     "name": "stdout",
     "output_type": "stream",
     "text": [
      "The number 18 is smaller than 20.\n",
      "And the number 18 is larger or equal than 10.\n",
      "finished\n"
     ]
    }
   ],
   "source": [
    "# Read some value from the console\n",
    "# Test conditions, execute code conditionally\n",
    "# indentation is important\n",
    "\n",
    "# uncomment to play the game:\n",
    "# someInput = input(\"Type a number: \")\n",
    "someInput = 18\n",
    "\n",
    "\n",
    "#Note: we do not test if the input is a valid number. \n",
    "#Learn about Exeption Handling:\n",
    "# https://docs.python.org/2/tutorial/errors.html\n",
    "someNumber = int(someInput) \n",
    "\n",
    "if (someNumber < 10):\n",
    "    print(\"The number {0} is smaller than 10.\".format(someNumber))\n",
    "elif (someNumber < 20):\n",
    "    print(\"The number {0} is smaller than 20.\".format(someNumber))\n",
    "    print(\"And the number {0} is larger or equal than 10.\".format(someNumber))\n",
    "else:\n",
    "    print(\"{0} is big.\".format(someNumber))\n",
    "print(\"finished\")    "
   ]
  },
  {
   "cell_type": "code",
   "execution_count": 29,
   "metadata": {},
   "outputs": [
    {
     "name": "stdout",
     "output_type": "stream",
     "text": [
      "The computer has generated a random number in the interval [5,11]\n",
      "Enter your guess: 1\n",
      "The secret number is larger\n",
      "Enter your guess: 9\n",
      "You solved the puzzle in 2 trials\n"
     ]
    }
   ],
   "source": [
    "#let's play a game: the computer generates a random number,\n",
    "#you have to guess it\n",
    "\n",
    "#Use the random number generator defined in the random class\n",
    "import random as rand\n",
    "\n",
    "#specify the game parameters:\n",
    "lowerBound = 5;\n",
    "upperBound = 11;\n",
    "maxNrTrials = 5;\n",
    "\n",
    "#here starts the implementation of the game\n",
    "secretNumber = rand.randint(lowerBound, upperBound)\n",
    "print(\"The computer has generated a random number in the interval [{0},{1}]\" \\\n",
    "     # \\ is a line break, the code continues here:\n",
    "     .format(lowerBound, upperBound))\n",
    "\n",
    "#define a boolean variable, initialize it with False\n",
    "isSolved = False\n",
    "nrOfTrials = 0;\n",
    "\n",
    "# a while loop is repeating as long as the entry-condition is True.\n",
    "# note the logical operators \"not\" and \"and\":\n",
    "while ( (not isSolved)  and (nrOfTrials < maxNrTrials)):\n",
    "    guess = 13 # comment this line\n",
    "    guess = int(input(\"Enter your guess: \")) # uncomment this line to play the game:\n",
    "    \n",
    "    if secretNumber < guess:\n",
    "        print(\"The secret number is smaller\")\n",
    "    elif  secretNumber > guess:\n",
    "        print(\"The secret number is larger\")\n",
    "    else:\n",
    "        isSolved = True\n",
    "    #in all cases, increment the counter variable by one\n",
    "    nrOfTrials += 1 \n",
    "\n",
    "if isSolved:\n",
    "    print(\"You solved the puzzle in {0} trials\".format(nrOfTrials))\n",
    "else:\n",
    "    print(\"You lost. The secret number was: {0}. You did not find it in {1} trials. :-(\"\\\n",
    "    .format(secretNumber, nrOfTrials))"
   ]
  },
  {
   "cell_type": "code",
   "execution_count": 30,
   "metadata": {},
   "outputs": [
    {
     "data": {
      "text/plain": [
       "False"
      ]
     },
     "execution_count": 30,
     "metadata": {},
     "output_type": "execute_result"
    }
   ],
   "source": [
    "# boolean\n",
    "not True"
   ]
  },
  {
   "cell_type": "markdown",
   "metadata": {},
   "source": [
    "## Part 2: dealing with vectors and arrays: NumPy (and a bit of SciPy)\n",
    "\n",
    "read the docs: http://docs.scipy.org/doc/numpy/"
   ]
  },
  {
   "cell_type": "code",
   "execution_count": 31,
   "metadata": {},
   "outputs": [
    {
     "name": "stdout",
     "output_type": "stream",
     "text": [
      "5.0\n",
      "11\n"
     ]
    }
   ],
   "source": [
    "import numpy as np \n",
    "\n",
    "a = np.array([3, 4])\n",
    "b = np.array([1, 2])\n",
    "# norm of a vector\n",
    "print(np.linalg.norm(a)) # http://docs.scipy.org/doc/numpy/reference/routines.linalg.html\n",
    "# dot product of two vectors (Skalarprodukt)\n",
    "print(np.dot(a,b))"
   ]
  },
  {
   "cell_type": "code",
   "execution_count": null,
   "metadata": {},
   "outputs": [],
   "source": []
  },
  {
   "cell_type": "code",
   "execution_count": 32,
   "metadata": {},
   "outputs": [
    {
     "name": "stdout",
     "output_type": "stream",
     "text": [
      "[[0. 0. 0.]\n",
      " [0. 0. 0.]]\n",
      "[[1. 1. 1. 1.]\n",
      " [1. 1. 1. 1.]]\n",
      "assign a value to an array element. note the zero based indexing!\n",
      "[[ 1.  1.  1.  1.]\n",
      " [10.  1.  1.  1.]]\n",
      "get the size of an array\n",
      "(2, 4)\n",
      "compare the size to that of a vector:\n",
      "(2,)\n",
      "reshape\n",
      "[[3 4]]\n",
      "(1, 2)\n"
     ]
    }
   ],
   "source": [
    "#a convenient constructor:\n",
    "print(np.zeros( (2, 3) )) \n",
    "# how many parameters does the zeros method have? and of what type?\n",
    "# -> get used to read the API: \n",
    "# http://docs.scipy.org/doc/numpy-1.10.1/reference/generated/numpy.ones.html#numpy.ones\n",
    "\n",
    "arrayShape = (2,4)\n",
    "anArray = np.ones(arrayShape)\n",
    "print(anArray)\n",
    "print(\"assign a value to an array element. note the zero based indexing!\")\n",
    "anArray[1, 0] = 10 \n",
    "print(anArray)\n",
    "print(\"get the size of an array\")\n",
    "print(anArray.shape)\n",
    "print(\"compare the size to that of a vector:\")\n",
    "a = np.array([3, 4])\n",
    "print(a.shape)\n",
    "print(\"reshape\")\n",
    "oneByNMatrice = np.reshape(a, (1,2))\n",
    "print(oneByNMatrice)\n",
    "print(oneByNMatrice.shape)"
   ]
  },
  {
   "cell_type": "code",
   "execution_count": 33,
   "metadata": {},
   "outputs": [
    {
     "name": "stdout",
     "output_type": "stream",
     "text": [
      "initialze a 2-dim array with specific values\n",
      "[[ 0  1  2]\n",
      " [10 11 12]\n",
      " [20 21 22]]\n",
      "access specific rows and columns:\n",
      "[0 1 2]\n",
      "[ 1 11 21]\n",
      "index from the end:\n",
      "[ 2 12 22]\n",
      "get all columns from the first and second row\n",
      "[[ 0  1  2]\n",
      " [10 11 12]]\n",
      "get all rows from the first and third column\n",
      "[[ 0  2]\n",
      " [10 12]\n",
      " [20 22]]\n",
      "get the diagonal elements\n",
      "[ 0 11 22]\n"
     ]
    }
   ],
   "source": [
    "#indexing 2d arrays\n",
    "print(\"initialze a 2-dim array with specific values\")\n",
    "anArray = np.array( [[0, 1, 2], [10, 11, 12], [20, 21, 22]])\n",
    "print(anArray)\n",
    "\n",
    "print(\"access specific rows and columns:\")\n",
    "print(anArray[0,:])\n",
    "print(anArray[:, 1])\n",
    "\n",
    "print(\"index from the end:\")\n",
    "print(anArray[:, -1])\n",
    "\n",
    "print(\"get all columns from the first and second row\")\n",
    "b=anArray[0:2 , :]\n",
    "print(b)\n",
    "\n",
    "print(\"get all rows from the first and third column\")\n",
    "c=anArray[:, [0, 2]]\n",
    "print(c)\n",
    "\n",
    "print(\"get the diagonal elements\")\n",
    "print(np.diag(anArray))\n",
    "\n",
    "\n",
    "#learn more about indexing, slicing, ...\n",
    "# https://docs.scipy.org/doc/numpy-dev/user/quickstart.html\n",
    "\n"
   ]
  },
  {
   "cell_type": "code",
   "execution_count": 34,
   "metadata": {},
   "outputs": [
    {
     "name": "stdout",
     "output_type": "stream",
     "text": [
      "[1.   1.25 1.5  1.75 2.  ]\n",
      "[ 10.          17.7827941   31.6227766   56.23413252 100.        ]\n",
      "[2.30258509 2.87823137 3.45387764 4.02952391 4.60517019]\n",
      "[1.   1.25 1.5  1.75 2.  ]\n"
     ]
    }
   ],
   "source": [
    "#get five values in an interval: linspace or logspace\n",
    "v1 = np.linspace(1, 2, 5)\n",
    "print(v1)\n",
    "v2 = np.logspace(1, 2, 5)\n",
    "print(v2) #did you expect that result? read-the-docs \n",
    "#ok,taking log, what do you expect now:\n",
    "print(np.log(v2))\n",
    "print(np.log10(v2))\n"
   ]
  },
  {
   "cell_type": "code",
   "execution_count": 35,
   "metadata": {},
   "outputs": [
    {
     "name": "stdout",
     "output_type": "stream",
     "text": [
      "compute the determinant of a 3x3 random matrix\n",
      "[[0.1620927  0.1443669  0.98375266]\n",
      " [0.88383358 0.47322962 0.8935283 ]\n",
      " [0.93842189 0.7248259  0.37772871]]\n",
      "0.19019376464153584\n",
      "Note the size of a 3d VECTOR, it's not a 1 by 3 matrix:\n",
      "[0.58589775 0.622618   0.45675717]\n",
      "3\n",
      "round to 2 decimals\n",
      "[0.59 0.62 0.46]\n",
      "initialze a 2-dim array with specific values\n",
      "A\n",
      "[[ 0  1  2]\n",
      " [10 11 12]]\n",
      "B\n",
      "[[1]\n",
      " [2]]\n",
      "A transposed times B\n",
      "[[20]\n",
      " [23]\n",
      " [26]]\n",
      "element wise addition and multiplication\n",
      "[[ 0.86624419  1.1997559   2.94989363]\n",
      " [10.38436315 11.53299241 12.22965449]]\n",
      "[[ 0.86624419  1.1997559   2.94989363]\n",
      " [10.38436315 11.53299241 12.22965449]]\n",
      "[[0.         0.1997559  1.89978727]\n",
      " [3.84363153 5.86291647 2.75585384]]\n",
      "[[0.         0.1997559  1.89978727]\n",
      " [3.84363153 5.86291647 2.75585384]]\n"
     ]
    }
   ],
   "source": [
    "#more about matrices, use of np.random\n",
    "print(\"compute the determinant of a 3x3 random matrix\")\n",
    "myRandomMatrix = np.random.rand(3,3)\n",
    "print(myRandomMatrix)\n",
    "determinant = np.linalg.det(myRandomMatrix)\n",
    "print(determinant)\n",
    "print(\"Note the size of a 3d VECTOR, it's not a 1 by 3 matrix:\")\n",
    "randVector = np.random.rand(3)\n",
    "print(randVector)\n",
    "print(randVector.size)\n",
    "\n",
    "print(\"round to 2 decimals\")\n",
    "#note the \"named\" parameter decimals. This sometimes improves the readability\n",
    "roundedValues = np.around(randVector, decimals=2) \n",
    "#roundedValues = np.around(randVector, 2) \n",
    "print(roundedValues)\n",
    "\n",
    "# matrix multiplication\n",
    "# matrices\n",
    "print(\"initialze a 2-dim array with specific values\")\n",
    "A = np.array( [[0, 1, 2], [10, 11, 12]])\n",
    "print(\"A\")\n",
    "print(A)\n",
    "B = np.array([[1], [2]])\n",
    "print(\"B\")\n",
    "print(B)\n",
    "print(\"A transposed times B\")\n",
    "print(np.dot(A.transpose(),B))\n",
    "C = np.random.random_sample(A.shape) # random_sample is the same as rand but takes a shape param\n",
    "print(\"element wise addition and multiplication\")\n",
    "print(np.add(A,C))\n",
    "print(A + C)\n",
    "print(np.multiply(A,C))\n",
    "print(A * C)"
   ]
  },
  {
   "cell_type": "markdown",
   "metadata": {},
   "source": [
    "# Part 3: Lists and Dicts"
   ]
  },
  {
   "cell_type": "markdown",
   "metadata": {},
   "source": [
    "Note: vectors and arrays shown above are the Python implementation of the corresponding mathematical objects. \n",
    "Sometimes they are not the most convenient way to store data. There are many other ways to  store and access values. Datastructures are a topic on their own. \n",
    "Here we show lists and dictionaries:"
   ]
  },
  {
   "cell_type": "code",
   "execution_count": 14,
   "metadata": {},
   "outputs": [
    {
     "name": "stdout",
     "output_type": "stream",
     "text": [
      "initialize an empty list\n",
      "lists are a dynamic datastructure. it grows as we add elements\n",
      "['This', 'is']\n",
      "['This', 'is', 'a', 'list']\n",
      "pop the last element from the list. \n",
      "list\n",
      "default sorting\n",
      "['This', 'a', 'is']\n",
      "case insensitive sorting\n",
      "a\n",
      "is\n",
      "This\n"
     ]
    }
   ],
   "source": [
    "print(\"initialize an empty list\")\n",
    "myList = []\n",
    "print(\"lists are a dynamic datastructure. it grows as we add elements\")\n",
    "myList.append(\"This\")\n",
    "myList.append(\"is\")\n",
    "print(myList)\n",
    "#append another list:\n",
    "myList.extend([\"a\", \"list\"])\n",
    "print(myList)\n",
    "print(\"pop the last element from the list. \")\n",
    "print(myList.pop())\n",
    "print(\"default sorting\")\n",
    "myList.sort()\n",
    "print(myList)\n",
    "print(\"case insensitive sorting\")\n",
    "myList.sort(key=str.lower)\n",
    "#iterate over all elements:\n",
    "for e in myList:\n",
    "    print(e)"
   ]
  },
  {
   "cell_type": "markdown",
   "metadata": {},
   "source": [
    "Datatype: **Dictionary**\n",
    "\n",
    "Dictionaries are a simple data structure. They are a collection of key-value-pairs.\n",
    "\n",
    "https://en.wikibooks.org/wiki/A-level_Computing/AQA/Paper_1/Fundamentals_of_data_structures/Dictionaries\n",
    "\n"
   ]
  },
  {
   "cell_type": "code",
   "execution_count": 15,
   "metadata": {},
   "outputs": [
    {
     "name": "stdout",
     "output_type": "stream",
     "text": [
      "{'key1': 111, 'key2': 222}\n",
      "{'key1': 999, 'key2': 222, 50: 'cinquante'}\n",
      "********** working with dictionaries **********\n",
      "dict_keys(['key1', 'key2', 50])\n",
      "\n",
      "iterate over all keys:\n",
      "key1\n",
      "key2\n",
      "50\n",
      "\n",
      "iterate over all values:\n",
      "999\n",
      "222\n",
      "cinquante\n",
      "\n",
      "iterate over keys and values:\n",
      "key:key1 -> value:999\n",
      "key:key2 -> value:222\n",
      "key:50 -> value:cinquante\n",
      "********** a dict of lists **********\n"
     ]
    },
    {
     "data": {
      "text/plain": [
       "{1: ['i=1, i%3=k=1', 'i=4, i%3=k=1', 'i=7, i%3=k=1'],\n",
       " 2: ['i=2, i%3=k=2', 'i=5, i%3=k=2', 'i=8, i%3=k=2'],\n",
       " 0: ['i=3, i%3=k=0', 'i=6, i%3=k=0', 'i=9, i%3=k=0']}"
      ]
     },
     "execution_count": 15,
     "metadata": {},
     "output_type": "execute_result"
    }
   ],
   "source": [
    "myDict = {} # initialize an empty dict.\n",
    "myDict = dict() # initialize an empty dict. (alternative)\n",
    "\n",
    "myDict[\"key1\"] = 111  # if the key does not exist, it is added.\n",
    "myDict[\"key2\"] = 222\n",
    "print(myDict)\n",
    "\n",
    "myDict[\"key1\"] = 999  # change the value of the element at key \"key1\"\n",
    "myDict[50] = \"cinquante\"  # you can mix types: here, key is an int. value is a string\n",
    "print(myDict)\n",
    "\n",
    "print(\"********** working with dictionaries **********\")\n",
    "all_keys = myDict.keys()\n",
    "print(all_keys)\n",
    "\n",
    "print(\"\\niterate over all keys:\")\n",
    "for k in myDict:\n",
    "    print(k)\n",
    "\n",
    "\n",
    "print(\"\\niterate over all values:\")\n",
    "for k in myDict.values():\n",
    "    print(k)\n",
    "\n",
    "\n",
    "print(\"\\niterate over keys and values:\")\n",
    "for k,v in myDict.items():\n",
    "    print(\"key:{0} -> value:{1}\".format(k,v))\n",
    "\n",
    "print(\"********** a dict of lists **********\")\n",
    "\n",
    "list_dict = dict()\n",
    "for i in range (1, 10):\n",
    "    k = i%3\n",
    "    # test if key exists. if not add an empty list\n",
    "    if k not in list_dict:\n",
    "        list_dict[k] = [] # empty list\n",
    "    list_dict[k].append(\"i={0}, i%3=k={1}\".format(i,k))\n",
    "\n",
    "list_dict\n"
   ]
  },
  {
   "cell_type": "markdown",
   "metadata": {},
   "source": [
    "## Part 4: some math and the use of matplotlib\n",
    "\n",
    "Here's the doc:  \n",
    "http://matplotlib.org\n",
    "\n",
    "The fastest way to learn matplotlib, is to browse the examples:  \n",
    "https://matplotlib.org/stable/gallery/index.html\n",
    "\n",
    "What is a figure, an axes, a subplot? That can be confusing. Read this:  \n",
    "https://matplotlib.org/stable/gallery/subplots_axes_and_figures/index.html\n"
   ]
  },
  {
   "cell_type": "code",
   "execution_count": 36,
   "metadata": {},
   "outputs": [
    {
     "data": {
      "text/plain": [
       "<matplotlib.legend.Legend at 0x116e683a0>"
      ]
     },
     "execution_count": 36,
     "metadata": {},
     "output_type": "execute_result"
    },
    {
     "data": {
      "image/png": "[encoded data removed]",
      "text/plain": [
       "<Figure size 640x480 with 1 Axes>"
      ]
     },
     "metadata": {},
     "output_type": "display_data"
    }
   ],
   "source": [
    "#the following directive needed in notebooks only, not in your files\n",
    "%matplotlib inline  \n",
    "\n",
    "import numpy as np\n",
    "import matplotlib.pyplot as plt\n",
    "\n",
    "\n",
    "x= np.arange(-2*np.pi, 2*np.pi, 0.05)\n",
    "y_sine = np.sin(x)\n",
    "y_cosine = np.cos(x)\n",
    "# we use the pyplot class plt to make a plot\n",
    "plt.plot(x, y_sine)\n",
    "plt.plot(x, y_cosine, '--r') #set the line style\n",
    "#plt.axes().set_aspect('equal', 'datalim')\n",
    "plt.grid()\n",
    "plt.xlabel(\"x\")\n",
    "plt.ylabel(\"y=f(x)\")\n",
    "#for some properties we need a reference to the figure:\n",
    "#f = plt.figure()\n",
    "plt.title(\"sine and cosine\")\n",
    "plt.legend((\"sine\", \"cosine\"))"
   ]
  },
  {
   "cell_type": "code",
   "execution_count": 37,
   "metadata": {},
   "outputs": [
    {
     "data": {
      "text/plain": [
       "<matplotlib.image.AxesImage at 0x127ba3b20>"
      ]
     },
     "execution_count": 37,
     "metadata": {},
     "output_type": "execute_result"
    },
    {
     "data": {
      "image/png": "[encoded data removed]",
      "text/plain": [
       "<Figure size 640x480 with 1 Axes>"
      ]
     },
     "metadata": {},
     "output_type": "display_data"
    }
   ],
   "source": [
    "# a nested loop demo\n",
    "# array indexing\n",
    "# compute some values and store them in an array. visualize the values.\n",
    "# for more advanced plotting: http://matplotlib.org/mpl_toolkits/mplot3d/tutorial.html\n",
    "\n",
    "products = np.zeros([10, 10])\n",
    "for i in range(1, 11):\n",
    "    for k in range (1, 11):\n",
    "        i_times_k = i*k \n",
    "        products[i-1, k-1] = i_times_k #note: indexing is zero based\n",
    "\n",
    "plt.imshow(products)\n"
   ]
  },
  {
   "cell_type": "markdown",
   "metadata": {},
   "source": [
    "## Part 5: Copying and slicing lists and numpy arrays\n",
    "\n",
    "Certain features of Python might lead to unwanted behaviour and serious mistakes, if one is not aware of them. \n",
    "\n",
    "* Assigning a list to a new variable does not create a copy of the list, but creates a variable that points to the list. This means that modifying the second variable, also modifies the original list.\n",
    "* Assigning a slice of a list to a new variable, creates a copy of the list. Any modification to the sliced list does not modify the original.\n",
    "\n",
    "Check the outcome of the following commands:"
   ]
  },
  {
   "cell_type": "code",
   "execution_count": 38,
   "metadata": {},
   "outputs": [
    {
     "data": {
      "text/plain": [
       "[1, 2, 3, 4, 5, 6]"
      ]
     },
     "execution_count": 38,
     "metadata": {},
     "output_type": "execute_result"
    }
   ],
   "source": [
    "a = [1, 2, 3, 4, 5, 6]\n",
    "a"
   ]
  },
  {
   "cell_type": "code",
   "execution_count": 39,
   "metadata": {},
   "outputs": [
    {
     "name": "stdout",
     "output_type": "stream",
     "text": [
      "*** Copying a list and modifying 1 element ***\n",
      "[1, 2, 3, 4, 5, 6]\n",
      "[1, 2, 3, 4, 5, 6]\n",
      "[1, 99, 3, 4, 5, 6]\n",
      "[1, 99, 3, 4, 5, 6]\n",
      "\n",
      "\n",
      "*** Slicing a list and modifying 1 element ***\n",
      "[1, 2, 3, 4, 5, 6]\n",
      "[1, 2, 3, 4]\n",
      "[1, 99, 3, 4]\n",
      "[1, 2, 3, 4, 5, 6]\n",
      "\n",
      "\n",
      "*** Copying a list via slicing and modifying 1 element ***\n",
      "[1, 2, 3, 4, 5, 6]\n",
      "[1, 2, 3, 4, 5, 6]\n",
      "[1, 99, 3, 4, 5, 6]\n",
      "[1, 2, 3, 4, 5, 6]\n",
      "\n",
      "\n"
     ]
    }
   ],
   "source": [
    "print(\"*** Copying a list and modifying 1 element ***\")\n",
    "a = [1, 2, 3, 4, 5, 6]\n",
    "print(a)\n",
    "b = a\n",
    "print(b)\n",
    "b[1] = 99\n",
    "print(b)\n",
    "print(a)  # note: the variables a and b point to the same list\n",
    "print(\"\\n\")\n",
    "\n",
    "print(\"*** Slicing a list and modifying 1 element ***\")\n",
    "a = [1, 2, 3, 4, 5, 6]\n",
    "print(a)\n",
    "c = a[0:4]\n",
    "print(c)\n",
    "c[1] = 99\n",
    "print(c)\n",
    "print(a)\n",
    "print(\"\\n\")\n",
    "\n",
    "print(\"*** Copying a list via slicing and modifying 1 element ***\")\n",
    "a = [1, 2, 3, 4, 5, 6]\n",
    "print(a)\n",
    "d = a[:]\n",
    "print(d)\n",
    "d[1] = 99\n",
    "print(d)\n",
    "print(a)\n",
    "print(\"\\n\")"
   ]
  },
  {
   "cell_type": "markdown",
   "metadata": {},
   "source": [
    "Now when it comes to numpy arrays\n",
    "* Assigning a numpy array to a new variable does not create a copy of the array, but creates a variable that points to the array. This means that modifying the second variable, also modifies the original array. (same as above)\n",
    "* Assigning a slice of a numpy array to a new variable creates a variable that points to the corresponding elements of the original array as well! (contrary to what we saw above!) This means that modifying the second variable, also modifies the original array!\n",
    "* To copy the original array and ensure that it is not modified by any modification of its copied version, the method copy() should be used.\n",
    "\n",
    "Check the outcome of the following commands:"
   ]
  },
  {
   "cell_type": "code",
   "execution_count": 20,
   "metadata": {},
   "outputs": [
    {
     "name": "stdout",
     "output_type": "stream",
     "text": [
      "*** Copying a numpy array and modifying 1 element ***\n",
      "[1 2 3 4 5 6]\n",
      "[1 2 3 4 5 6]\n",
      "[ 1 99  3  4  5  6]\n",
      "[ 1 99  3  4  5  6]\n",
      "\n",
      "\n",
      "*** Slicing a numpy array and modifying 1 element ***\n",
      "[1 2 3 4 5 6]\n",
      "[1 2 3 4]\n",
      "[ 1 99  3  4]\n",
      "[ 1 99  3  4  5  6]\n",
      "\n",
      "\n",
      "*** Copying a numpy array via slicing and modifying 1 element ***\n",
      "[1 2 3 4 5 6]\n",
      "[1 2 3 4 5 6]\n",
      "[ 1 99  3  4  5  6]\n",
      "[ 1 99  3  4  5  6]\n",
      "\n",
      "\n",
      "*** Copying a numpy array with the copy() function and modifying 1 element ***\n",
      "[1 2 3 4 5 6]\n",
      "[1 2 3 4 5 6]\n",
      "[ 1 99  3  4  5  6]\n",
      "[1 2 3 4 5 6]\n",
      "\n",
      "\n"
     ]
    }
   ],
   "source": [
    "import numpy as np\n",
    "print(\"*** Copying a numpy array and modifying 1 element ***\")\n",
    "a = np.array([1, 2, 3, 4, 5, 6])\n",
    "print(a)\n",
    "b = a\n",
    "print(b)\n",
    "b[1] = 99\n",
    "print(b)\n",
    "print(a)\n",
    "print(\"\\n\")\n",
    "\n",
    "print(\"*** Slicing a numpy array and modifying 1 element ***\")\n",
    "a = np.array([1, 2, 3, 4, 5, 6])\n",
    "print(a)\n",
    "c = a[0:4]\n",
    "print(c)\n",
    "c[1] = 99\n",
    "print(c)\n",
    "print(a)\n",
    "print(\"\\n\")\n",
    "\n",
    "print(\"*** Copying a numpy array via slicing and modifying 1 element ***\")\n",
    "a = np.array([1, 2, 3, 4, 5, 6])\n",
    "print(a)\n",
    "d = a[:]\n",
    "print(d)\n",
    "d[1] = 99\n",
    "print(d)\n",
    "print(a)\n",
    "print(\"\\n\")\n",
    "\n",
    "print(\"*** Copying a numpy array with the copy() function and modifying 1 element ***\")\n",
    "a = np.array([1, 2, 3, 4, 5, 6])\n",
    "print(a)\n",
    "b = a.copy()\n",
    "print(b)\n",
    "b[1] = 99\n",
    "print(b)\n",
    "print(a)\n",
    "print(\"\\n\")"
   ]
  },
  {
   "cell_type": "markdown",
   "metadata": {
    "collapsed": true
   },
   "source": [
    "# Part 6: In-Memory Data: Pandas,  DataFrame\n",
    "Pandas provides a neat wrapper for data. If you are familiar with SQL, then many concepts should look familiar.\n",
    "Find a cheat sheet on Moodle\n"
   ]
  },
  {
   "cell_type": "code",
   "execution_count": 40,
   "metadata": {},
   "outputs": [],
   "source": [
    "# make sure pandas is installed:\n",
    "# >> conda install –c anaconda pandas\n",
    "import pandas\n",
    "from IPython.display import display"
   ]
  },
  {
   "cell_type": "code",
   "execution_count": 41,
   "metadata": {},
   "outputs": [
    {
     "name": "stdout",
     "output_type": "stream",
     "text": [
      "Data Types:\n",
      "Product             object\n",
      "Date        datetime64[ns]\n",
      "ProdID               int64\n",
      "Category          category\n",
      "Price              float64\n",
      "dtype: object\n",
      "\n",
      "Info:\n",
      "<class 'pandas.core.frame.DataFrame'>\n",
      "RangeIndex: 6 entries, 0 to 5\n",
      "Data columns (total 5 columns):\n",
      " #   Column    Non-Null Count  Dtype         \n",
      "---  ------    --------------  -----         \n",
      " 0   Product   6 non-null      object        \n",
      " 1   Date      6 non-null      datetime64[ns]\n",
      " 2   ProdID    6 non-null      int64         \n",
      " 3   Category  6 non-null      category      \n",
      " 4   Price     6 non-null      float64       \n",
      "dtypes: category(1), datetime64[ns](1), float64(1), int64(1), object(1)\n",
      "memory usage: 450.0+ bytes\n",
      "None\n"
     ]
    },
    {
     "data": {
      "text/html": [
       "<div>\n",
       "<style scoped>\n",
       "    .dataframe tbody tr th:only-of-type {\n",
       "        vertical-align: middle;\n",
       "    }\n",
       "\n",
       "    .dataframe tbody tr th {\n",
       "        vertical-align: top;\n",
       "    }\n",
       "\n",
       "    .dataframe thead th {\n",
       "        text-align: right;\n",
       "    }\n",
       "</style>\n",
       "<table border=\"1\" class=\"dataframe\">\n",
       "  <thead>\n",
       "    <tr style=\"text-align: right;\">\n",
       "      <th></th>\n",
       "      <th>Product</th>\n",
       "      <th>Date</th>\n",
       "      <th>ProdID</th>\n",
       "      <th>Category</th>\n",
       "      <th>Price</th>\n",
       "    </tr>\n",
       "  </thead>\n",
       "  <tbody>\n",
       "    <tr>\n",
       "      <th>0</th>\n",
       "      <td>spinach</td>\n",
       "      <td>2018-12-31</td>\n",
       "      <td>11</td>\n",
       "      <td>vegetables</td>\n",
       "      <td>2.50</td>\n",
       "    </tr>\n",
       "    <tr>\n",
       "      <th>1</th>\n",
       "      <td>apple</td>\n",
       "      <td>2018-12-31</td>\n",
       "      <td>13</td>\n",
       "      <td>fruits</td>\n",
       "      <td>0.95</td>\n",
       "    </tr>\n",
       "    <tr>\n",
       "      <th>2</th>\n",
       "      <td>garlic</td>\n",
       "      <td>2018-12-31</td>\n",
       "      <td>15</td>\n",
       "      <td>vegetables</td>\n",
       "      <td>1.10</td>\n",
       "    </tr>\n",
       "    <tr>\n",
       "      <th>3</th>\n",
       "      <td>broccoli</td>\n",
       "      <td>2018-12-31</td>\n",
       "      <td>17</td>\n",
       "      <td>vegetables</td>\n",
       "      <td>3.50</td>\n",
       "    </tr>\n",
       "    <tr>\n",
       "      <th>4</th>\n",
       "      <td>apple</td>\n",
       "      <td>2018-12-31</td>\n",
       "      <td>19</td>\n",
       "      <td>fruits</td>\n",
       "      <td>0.95</td>\n",
       "    </tr>\n",
       "    <tr>\n",
       "      <th>5</th>\n",
       "      <td>garlic</td>\n",
       "      <td>2018-12-31</td>\n",
       "      <td>21</td>\n",
       "      <td>vegetables</td>\n",
       "      <td>1.10</td>\n",
       "    </tr>\n",
       "  </tbody>\n",
       "</table>\n",
       "</div>"
      ],
      "text/plain": [
       "    Product       Date  ProdID    Category  Price\n",
       "0   spinach 2018-12-31      11  vegetables   2.50\n",
       "1     apple 2018-12-31      13      fruits   0.95\n",
       "2    garlic 2018-12-31      15  vegetables   1.10\n",
       "3  broccoli 2018-12-31      17  vegetables   3.50\n",
       "4     apple 2018-12-31      19      fruits   0.95\n",
       "5    garlic 2018-12-31      21  vegetables   1.10"
      ]
     },
     "metadata": {},
     "output_type": "display_data"
    }
   ],
   "source": [
    "# create demo data:\n",
    "df1 = pandas.DataFrame({ 'Product' : [\"spinach\",\"apple\",\"garlic\",\"broccoli\",\"apple\",\"garlic\"],\n",
    "                        'Date' : pandas.Timestamp('20181231'),\n",
    "                        'ProdID' : list(range(11,22,2)),\n",
    "                        'Category' : pandas.Categorical([\"vegetables\",\"fruits\",\"vegetables\",\"vegetables\",\"fruits\",\"vegetables\"]),\n",
    "                        'Price' : [2.5, .95, 1.1, 3.5, .95, 1.1] })\n",
    "print(\"Data Types:\")\n",
    "print(df1.dtypes)\n",
    "print(\"\\nInfo:\")\n",
    "print(df1.info())\n",
    "\n",
    "display(df1)"
   ]
  },
  {
   "cell_type": "code",
   "execution_count": 42,
   "metadata": {},
   "outputs": [
    {
     "data": {
      "text/html": [
       "<div>\n",
       "<style scoped>\n",
       "    .dataframe tbody tr th:only-of-type {\n",
       "        vertical-align: middle;\n",
       "    }\n",
       "\n",
       "    .dataframe tbody tr th {\n",
       "        vertical-align: top;\n",
       "    }\n",
       "\n",
       "    .dataframe thead th {\n",
       "        text-align: right;\n",
       "    }\n",
       "</style>\n",
       "<table border=\"1\" class=\"dataframe\">\n",
       "  <thead>\n",
       "    <tr style=\"text-align: right;\">\n",
       "      <th></th>\n",
       "      <th>Product</th>\n",
       "      <th>Date</th>\n",
       "      <th>Category</th>\n",
       "      <th>Price</th>\n",
       "    </tr>\n",
       "    <tr>\n",
       "      <th>ProdID</th>\n",
       "      <th></th>\n",
       "      <th></th>\n",
       "      <th></th>\n",
       "      <th></th>\n",
       "    </tr>\n",
       "  </thead>\n",
       "  <tbody>\n",
       "    <tr>\n",
       "      <th>11</th>\n",
       "      <td>spinach</td>\n",
       "      <td>2018-12-31</td>\n",
       "      <td>vegetables</td>\n",
       "      <td>2.50</td>\n",
       "    </tr>\n",
       "    <tr>\n",
       "      <th>13</th>\n",
       "      <td>apple</td>\n",
       "      <td>2018-12-31</td>\n",
       "      <td>fruits</td>\n",
       "      <td>0.95</td>\n",
       "    </tr>\n",
       "    <tr>\n",
       "      <th>15</th>\n",
       "      <td>garlic</td>\n",
       "      <td>2018-12-31</td>\n",
       "      <td>vegetables</td>\n",
       "      <td>1.10</td>\n",
       "    </tr>\n",
       "    <tr>\n",
       "      <th>17</th>\n",
       "      <td>broccoli</td>\n",
       "      <td>2018-12-31</td>\n",
       "      <td>vegetables</td>\n",
       "      <td>3.50</td>\n",
       "    </tr>\n",
       "    <tr>\n",
       "      <th>19</th>\n",
       "      <td>apple</td>\n",
       "      <td>2018-12-31</td>\n",
       "      <td>fruits</td>\n",
       "      <td>0.95</td>\n",
       "    </tr>\n",
       "    <tr>\n",
       "      <th>21</th>\n",
       "      <td>garlic</td>\n",
       "      <td>2018-12-31</td>\n",
       "      <td>vegetables</td>\n",
       "      <td>1.10</td>\n",
       "    </tr>\n",
       "  </tbody>\n",
       "</table>\n",
       "</div>"
      ],
      "text/plain": [
       "         Product       Date    Category  Price\n",
       "ProdID                                        \n",
       "11       spinach 2018-12-31  vegetables   2.50\n",
       "13         apple 2018-12-31      fruits   0.95\n",
       "15        garlic 2018-12-31  vegetables   1.10\n",
       "17      broccoli 2018-12-31  vegetables   3.50\n",
       "19         apple 2018-12-31      fruits   0.95\n",
       "21        garlic 2018-12-31  vegetables   1.10"
      ]
     },
     "metadata": {},
     "output_type": "display_data"
    }
   ],
   "source": [
    "# set index (=key)\n",
    "df1.set_index(\"ProdID\", inplace=True)\n",
    "display(df1)\n"
   ]
  },
  {
   "cell_type": "code",
   "execution_count": 54,
   "metadata": {},
   "outputs": [
    {
     "data": {
      "text/plain": [
       "Product                  garlic\n",
       "Date        2018-12-31 00:00:00\n",
       "Category             vegetables\n",
       "Price                       1.1\n",
       "Name: 15, dtype: object"
      ]
     },
     "metadata": {},
     "output_type": "display_data"
    },
    {
     "data": {
      "text/plain": [
       "ProdID\n",
       "11    2.50\n",
       "13    0.95\n",
       "15    1.10\n",
       "17    3.50\n",
       "19    0.95\n",
       "21    1.10\n",
       "Name: Price, dtype: float64"
      ]
     },
     "metadata": {},
     "output_type": "display_data"
    }
   ],
   "source": [
    "# access by rows/cols\n",
    "# read this: https://www.shanelynn.ie/select-pandas-dataframe-rows-and-columns-using-iloc-loc-and-ix/\n",
    "\n",
    "# by row index\n",
    "row2 = df1.iloc[2,:]\n",
    "display(row2)\n",
    "# by col index\n",
    "col3 = df1.iloc[:,3]\n",
    "display(col3)"
   ]
  },
  {
   "cell_type": "code",
   "execution_count": 69,
   "metadata": {},
   "outputs": [
    {
     "name": "stdout",
     "output_type": "stream",
     "text": [
      "demo 1\n"
     ]
    },
    {
     "data": {
      "text/html": [
       "<div>\n",
       "<style scoped>\n",
       "    .dataframe tbody tr th:only-of-type {\n",
       "        vertical-align: middle;\n",
       "    }\n",
       "\n",
       "    .dataframe tbody tr th {\n",
       "        vertical-align: top;\n",
       "    }\n",
       "\n",
       "    .dataframe thead th {\n",
       "        text-align: right;\n",
       "    }\n",
       "</style>\n",
       "<table border=\"1\" class=\"dataframe\">\n",
       "  <thead>\n",
       "    <tr style=\"text-align: right;\">\n",
       "      <th></th>\n",
       "      <th>Price</th>\n",
       "    </tr>\n",
       "    <tr>\n",
       "      <th>Category</th>\n",
       "      <th></th>\n",
       "    </tr>\n",
       "  </thead>\n",
       "  <tbody>\n",
       "    <tr>\n",
       "      <th>fruits</th>\n",
       "      <td>1.9</td>\n",
       "    </tr>\n",
       "    <tr>\n",
       "      <th>vegetables</th>\n",
       "      <td>8.2</td>\n",
       "    </tr>\n",
       "  </tbody>\n",
       "</table>\n",
       "</div>"
      ],
      "text/plain": [
       "            Price\n",
       "Category         \n",
       "fruits        1.9\n",
       "vegetables    8.2"
      ]
     },
     "metadata": {},
     "output_type": "display_data"
    },
    {
     "name": "stdout",
     "output_type": "stream",
     "text": [
      "\n",
      "demo 2, Hierarchical Key\n"
     ]
    },
    {
     "data": {
      "text/html": [
       "<div>\n",
       "<style scoped>\n",
       "    .dataframe tbody tr th:only-of-type {\n",
       "        vertical-align: middle;\n",
       "    }\n",
       "\n",
       "    .dataframe tbody tr th {\n",
       "        vertical-align: top;\n",
       "    }\n",
       "\n",
       "    .dataframe thead th {\n",
       "        text-align: right;\n",
       "    }\n",
       "</style>\n",
       "<table border=\"1\" class=\"dataframe\">\n",
       "  <thead>\n",
       "    <tr style=\"text-align: right;\">\n",
       "      <th></th>\n",
       "      <th></th>\n",
       "      <th>Price</th>\n",
       "    </tr>\n",
       "    <tr>\n",
       "      <th>Date</th>\n",
       "      <th>Category</th>\n",
       "      <th></th>\n",
       "    </tr>\n",
       "  </thead>\n",
       "  <tbody>\n",
       "    <tr>\n",
       "      <th rowspan=\"2\" valign=\"top\">2018-12-31</th>\n",
       "      <th>fruits</th>\n",
       "      <td>1.9</td>\n",
       "    </tr>\n",
       "    <tr>\n",
       "      <th>vegetables</th>\n",
       "      <td>8.2</td>\n",
       "    </tr>\n",
       "  </tbody>\n",
       "</table>\n",
       "</div>"
      ],
      "text/plain": [
       "                       Price\n",
       "Date       Category         \n",
       "2018-12-31 fruits        1.9\n",
       "           vegetables    8.2"
      ]
     },
     "metadata": {},
     "output_type": "display_data"
    },
    {
     "name": "stdout",
     "output_type": "stream",
     "text": [
      "\n",
      "reset Key\n"
     ]
    },
    {
     "data": {
      "text/html": [
       "<div>\n",
       "<style scoped>\n",
       "    .dataframe tbody tr th:only-of-type {\n",
       "        vertical-align: middle;\n",
       "    }\n",
       "\n",
       "    .dataframe tbody tr th {\n",
       "        vertical-align: top;\n",
       "    }\n",
       "\n",
       "    .dataframe thead th {\n",
       "        text-align: right;\n",
       "    }\n",
       "</style>\n",
       "<table border=\"1\" class=\"dataframe\">\n",
       "  <thead>\n",
       "    <tr style=\"text-align: right;\">\n",
       "      <th></th>\n",
       "      <th>Date</th>\n",
       "      <th>Category</th>\n",
       "      <th>Price</th>\n",
       "    </tr>\n",
       "  </thead>\n",
       "  <tbody>\n",
       "    <tr>\n",
       "      <th>0</th>\n",
       "      <td>2018-12-31</td>\n",
       "      <td>fruits</td>\n",
       "      <td>1.9</td>\n",
       "    </tr>\n",
       "    <tr>\n",
       "      <th>1</th>\n",
       "      <td>2018-12-31</td>\n",
       "      <td>vegetables</td>\n",
       "      <td>8.2</td>\n",
       "    </tr>\n",
       "  </tbody>\n",
       "</table>\n",
       "</div>"
      ],
      "text/plain": [
       "        Date    Category  Price\n",
       "0 2018-12-31      fruits    1.9\n",
       "1 2018-12-31  vegetables    8.2"
      ]
     },
     "metadata": {},
     "output_type": "display_data"
    }
   ],
   "source": [
    "res1 = df1.groupby([\"Category\"]).sum()\n",
    "print(\"demo 1\")\n",
    "display(res1)\n",
    "\n",
    "print(\"\\ndemo 2, Hierarchical Key\")\n",
    "res2 = df1.groupby([\"Date\",\"Category\"]).sum()\n",
    "display(res2)\n",
    "\n",
    "print(\"\\nreset Key\")\n",
    "res3 = res2.reset_index() #https://www.datacamp.com/community/tutorials/pandas-multi-index\n",
    "display(res3)\n",
    "\n",
    "# learn more about sum and calc\n",
    "# http://openmetric.org/til/programming/pandas-new-column-from-other/"
   ]
  },
  {
   "cell_type": "code",
   "execution_count": 45,
   "metadata": {},
   "outputs": [
    {
     "data": {
      "text/html": [
       "<div>\n",
       "<style scoped>\n",
       "    .dataframe tbody tr th:only-of-type {\n",
       "        vertical-align: middle;\n",
       "    }\n",
       "\n",
       "    .dataframe tbody tr th {\n",
       "        vertical-align: top;\n",
       "    }\n",
       "\n",
       "    .dataframe thead th {\n",
       "        text-align: right;\n",
       "    }\n",
       "</style>\n",
       "<table border=\"1\" class=\"dataframe\">\n",
       "  <thead>\n",
       "    <tr style=\"text-align: right;\">\n",
       "      <th></th>\n",
       "      <th>Product</th>\n",
       "      <th>Country</th>\n",
       "    </tr>\n",
       "  </thead>\n",
       "  <tbody>\n",
       "    <tr>\n",
       "      <th>0</th>\n",
       "      <td>spinach</td>\n",
       "      <td>Spain</td>\n",
       "    </tr>\n",
       "    <tr>\n",
       "      <th>1</th>\n",
       "      <td>apple</td>\n",
       "      <td>Austria</td>\n",
       "    </tr>\n",
       "    <tr>\n",
       "      <th>2</th>\n",
       "      <td>garlic</td>\n",
       "      <td>Germany</td>\n",
       "    </tr>\n",
       "    <tr>\n",
       "      <th>3</th>\n",
       "      <td>broccoli</td>\n",
       "      <td>Spain</td>\n",
       "    </tr>\n",
       "  </tbody>\n",
       "</table>\n",
       "</div>"
      ],
      "text/plain": [
       "    Product  Country\n",
       "0   spinach    Spain\n",
       "1     apple  Austria\n",
       "2    garlic  Germany\n",
       "3  broccoli    Spain"
      ]
     },
     "execution_count": 45,
     "metadata": {},
     "output_type": "execute_result"
    }
   ],
   "source": [
    "#2nd dataframe\n",
    "df2 = pandas.DataFrame( { 'Product' : [\"spinach\",\"apple\",\"garlic\",\"broccoli\"],\n",
    "                         'Country' : [\"Spain\", \"Austria\", \"Germany\", \"Spain\"]}\n",
    "                      )\n",
    "    \n",
    "df2"
   ]
  },
  {
   "cell_type": "code",
   "execution_count": 46,
   "metadata": {},
   "outputs": [
    {
     "data": {
      "text/html": [
       "<div>\n",
       "<style scoped>\n",
       "    .dataframe tbody tr th:only-of-type {\n",
       "        vertical-align: middle;\n",
       "    }\n",
       "\n",
       "    .dataframe tbody tr th {\n",
       "        vertical-align: top;\n",
       "    }\n",
       "\n",
       "    .dataframe thead th {\n",
       "        text-align: right;\n",
       "    }\n",
       "</style>\n",
       "<table border=\"1\" class=\"dataframe\">\n",
       "  <thead>\n",
       "    <tr style=\"text-align: right;\">\n",
       "      <th></th>\n",
       "      <th>Product</th>\n",
       "      <th>Date</th>\n",
       "      <th>Category</th>\n",
       "      <th>Price</th>\n",
       "      <th>Country</th>\n",
       "    </tr>\n",
       "  </thead>\n",
       "  <tbody>\n",
       "    <tr>\n",
       "      <th>0</th>\n",
       "      <td>spinach</td>\n",
       "      <td>2018-12-31</td>\n",
       "      <td>vegetables</td>\n",
       "      <td>2.50</td>\n",
       "      <td>Spain</td>\n",
       "    </tr>\n",
       "    <tr>\n",
       "      <th>1</th>\n",
       "      <td>apple</td>\n",
       "      <td>2018-12-31</td>\n",
       "      <td>fruits</td>\n",
       "      <td>0.95</td>\n",
       "      <td>Austria</td>\n",
       "    </tr>\n",
       "    <tr>\n",
       "      <th>2</th>\n",
       "      <td>apple</td>\n",
       "      <td>2018-12-31</td>\n",
       "      <td>fruits</td>\n",
       "      <td>0.95</td>\n",
       "      <td>Austria</td>\n",
       "    </tr>\n",
       "    <tr>\n",
       "      <th>3</th>\n",
       "      <td>garlic</td>\n",
       "      <td>2018-12-31</td>\n",
       "      <td>vegetables</td>\n",
       "      <td>1.10</td>\n",
       "      <td>Germany</td>\n",
       "    </tr>\n",
       "    <tr>\n",
       "      <th>4</th>\n",
       "      <td>garlic</td>\n",
       "      <td>2018-12-31</td>\n",
       "      <td>vegetables</td>\n",
       "      <td>1.10</td>\n",
       "      <td>Germany</td>\n",
       "    </tr>\n",
       "    <tr>\n",
       "      <th>5</th>\n",
       "      <td>broccoli</td>\n",
       "      <td>2018-12-31</td>\n",
       "      <td>vegetables</td>\n",
       "      <td>3.50</td>\n",
       "      <td>Spain</td>\n",
       "    </tr>\n",
       "  </tbody>\n",
       "</table>\n",
       "</div>"
      ],
      "text/plain": [
       "    Product       Date    Category  Price  Country\n",
       "0   spinach 2018-12-31  vegetables   2.50    Spain\n",
       "1     apple 2018-12-31      fruits   0.95  Austria\n",
       "2     apple 2018-12-31      fruits   0.95  Austria\n",
       "3    garlic 2018-12-31  vegetables   1.10  Germany\n",
       "4    garlic 2018-12-31  vegetables   1.10  Germany\n",
       "5  broccoli 2018-12-31  vegetables   3.50    Spain"
      ]
     },
     "metadata": {},
     "output_type": "display_data"
    }
   ],
   "source": [
    "# both merge() and join() can be used.\n",
    "# learn more: https://www.datacamp.com/community/tutorials/joining-dataframes-pandas\n",
    "\n",
    "df_joined = pandas.merge(df1, df2, on='Product', how='inner')\n",
    "display(df_joined)"
   ]
  },
  {
   "cell_type": "code",
   "execution_count": 28,
   "metadata": {},
   "outputs": [
    {
     "data": {
      "text/html": [
       "<div>\n",
       "<style scoped>\n",
       "    .dataframe tbody tr th:only-of-type {\n",
       "        vertical-align: middle;\n",
       "    }\n",
       "\n",
       "    .dataframe tbody tr th {\n",
       "        vertical-align: top;\n",
       "    }\n",
       "\n",
       "    .dataframe thead th {\n",
       "        text-align: right;\n",
       "    }\n",
       "</style>\n",
       "<table border=\"1\" class=\"dataframe\">\n",
       "  <thead>\n",
       "    <tr style=\"text-align: right;\">\n",
       "      <th></th>\n",
       "      <th>Product</th>\n",
       "      <th>Date</th>\n",
       "      <th>Category</th>\n",
       "      <th>Price</th>\n",
       "      <th>Country</th>\n",
       "      <th>sum-country</th>\n",
       "    </tr>\n",
       "  </thead>\n",
       "  <tbody>\n",
       "    <tr>\n",
       "      <th>0</th>\n",
       "      <td>spinach</td>\n",
       "      <td>2018-12-31</td>\n",
       "      <td>vegetables</td>\n",
       "      <td>2.50</td>\n",
       "      <td>Spain</td>\n",
       "      <td>6.0</td>\n",
       "    </tr>\n",
       "    <tr>\n",
       "      <th>1</th>\n",
       "      <td>apple</td>\n",
       "      <td>2018-12-31</td>\n",
       "      <td>fruits</td>\n",
       "      <td>0.95</td>\n",
       "      <td>Austria</td>\n",
       "      <td>1.9</td>\n",
       "    </tr>\n",
       "    <tr>\n",
       "      <th>2</th>\n",
       "      <td>apple</td>\n",
       "      <td>2018-12-31</td>\n",
       "      <td>fruits</td>\n",
       "      <td>0.95</td>\n",
       "      <td>Austria</td>\n",
       "      <td>1.9</td>\n",
       "    </tr>\n",
       "    <tr>\n",
       "      <th>3</th>\n",
       "      <td>garlic</td>\n",
       "      <td>2018-12-31</td>\n",
       "      <td>vegetables</td>\n",
       "      <td>1.10</td>\n",
       "      <td>Germany</td>\n",
       "      <td>2.2</td>\n",
       "    </tr>\n",
       "    <tr>\n",
       "      <th>4</th>\n",
       "      <td>garlic</td>\n",
       "      <td>2018-12-31</td>\n",
       "      <td>vegetables</td>\n",
       "      <td>1.10</td>\n",
       "      <td>Germany</td>\n",
       "      <td>2.2</td>\n",
       "    </tr>\n",
       "    <tr>\n",
       "      <th>5</th>\n",
       "      <td>broccoli</td>\n",
       "      <td>2018-12-31</td>\n",
       "      <td>vegetables</td>\n",
       "      <td>3.50</td>\n",
       "      <td>Spain</td>\n",
       "      <td>6.0</td>\n",
       "    </tr>\n",
       "  </tbody>\n",
       "</table>\n",
       "</div>"
      ],
      "text/plain": [
       "    Product       Date    Category  Price  Country  sum-country\n",
       "0   spinach 2018-12-31  vegetables   2.50    Spain          6.0\n",
       "1     apple 2018-12-31      fruits   0.95  Austria          1.9\n",
       "2     apple 2018-12-31      fruits   0.95  Austria          1.9\n",
       "3    garlic 2018-12-31  vegetables   1.10  Germany          2.2\n",
       "4    garlic 2018-12-31  vegetables   1.10  Germany          2.2\n",
       "5  broccoli 2018-12-31  vegetables   3.50    Spain          6.0"
      ]
     },
     "metadata": {},
     "output_type": "display_data"
    },
    {
     "data": {
      "text/html": [
       "<div>\n",
       "<style scoped>\n",
       "    .dataframe tbody tr th:only-of-type {\n",
       "        vertical-align: middle;\n",
       "    }\n",
       "\n",
       "    .dataframe tbody tr th {\n",
       "        vertical-align: top;\n",
       "    }\n",
       "\n",
       "    .dataframe thead th {\n",
       "        text-align: right;\n",
       "    }\n",
       "</style>\n",
       "<table border=\"1\" class=\"dataframe\">\n",
       "  <thead>\n",
       "    <tr style=\"text-align: right;\">\n",
       "      <th></th>\n",
       "      <th>Product</th>\n",
       "      <th>Date</th>\n",
       "      <th>Category</th>\n",
       "      <th>Price</th>\n",
       "      <th>Country</th>\n",
       "      <th>sum-country</th>\n",
       "      <th>x100</th>\n",
       "    </tr>\n",
       "  </thead>\n",
       "  <tbody>\n",
       "    <tr>\n",
       "      <th>0</th>\n",
       "      <td>spinach</td>\n",
       "      <td>2018-12-31</td>\n",
       "      <td>vegetables</td>\n",
       "      <td>2.50</td>\n",
       "      <td>Spain</td>\n",
       "      <td>6.0</td>\n",
       "      <td>600.0</td>\n",
       "    </tr>\n",
       "    <tr>\n",
       "      <th>1</th>\n",
       "      <td>apple</td>\n",
       "      <td>2018-12-31</td>\n",
       "      <td>fruits</td>\n",
       "      <td>0.95</td>\n",
       "      <td>Austria</td>\n",
       "      <td>1.9</td>\n",
       "      <td>190.0</td>\n",
       "    </tr>\n",
       "    <tr>\n",
       "      <th>2</th>\n",
       "      <td>apple</td>\n",
       "      <td>2018-12-31</td>\n",
       "      <td>fruits</td>\n",
       "      <td>0.95</td>\n",
       "      <td>Austria</td>\n",
       "      <td>1.9</td>\n",
       "      <td>190.0</td>\n",
       "    </tr>\n",
       "    <tr>\n",
       "      <th>3</th>\n",
       "      <td>garlic</td>\n",
       "      <td>2018-12-31</td>\n",
       "      <td>vegetables</td>\n",
       "      <td>1.10</td>\n",
       "      <td>Germany</td>\n",
       "      <td>2.2</td>\n",
       "      <td>220.0</td>\n",
       "    </tr>\n",
       "    <tr>\n",
       "      <th>4</th>\n",
       "      <td>garlic</td>\n",
       "      <td>2018-12-31</td>\n",
       "      <td>vegetables</td>\n",
       "      <td>1.10</td>\n",
       "      <td>Germany</td>\n",
       "      <td>2.2</td>\n",
       "      <td>220.0</td>\n",
       "    </tr>\n",
       "    <tr>\n",
       "      <th>5</th>\n",
       "      <td>broccoli</td>\n",
       "      <td>2018-12-31</td>\n",
       "      <td>vegetables</td>\n",
       "      <td>3.50</td>\n",
       "      <td>Spain</td>\n",
       "      <td>6.0</td>\n",
       "      <td>600.0</td>\n",
       "    </tr>\n",
       "  </tbody>\n",
       "</table>\n",
       "</div>"
      ],
      "text/plain": [
       "    Product       Date    Category  Price  Country  sum-country   x100\n",
       "0   spinach 2018-12-31  vegetables   2.50    Spain          6.0  600.0\n",
       "1     apple 2018-12-31      fruits   0.95  Austria          1.9  190.0\n",
       "2     apple 2018-12-31      fruits   0.95  Austria          1.9  190.0\n",
       "3    garlic 2018-12-31  vegetables   1.10  Germany          2.2  220.0\n",
       "4    garlic 2018-12-31  vegetables   1.10  Germany          2.2  220.0\n",
       "5  broccoli 2018-12-31  vegetables   3.50    Spain          6.0  600.0"
      ]
     },
     "metadata": {},
     "output_type": "display_data"
    }
   ],
   "source": [
    "# add calculated columns\n",
    "df_joined[\"sum-country\"] = df_joined[[\"Country\", \"Price\"]].groupby(\"Country\").transform(\"sum\")\n",
    "display(df_joined)\n",
    "df_joined[\"x100\"] = df_joined[\"sum-country\"]*100\n",
    "display(df_joined)"
   ]
  },
  {
   "cell_type": "markdown",
   "metadata": {},
   "source": [
    "### Learn more\n",
    "\n",
    "https://jeffdelaney.me/blog/useful-snippets-in-pandas/\n"
   ]
  },
  {
   "cell_type": "markdown",
   "metadata": {},
   "source": [
    "## Load CSV data into a Pandas DataFrame! \n",
    "\n",
    "This is a very handy function! <br>\n",
    "Download niddk_diabetes_dataset.csv from Moodle. Then try the code snippet\n",
    "  \n",
    "data source:  \n",
    "https://www.kaggle.com/datasets/akshaydattatraykhare/diabetes-dataset?resource=download\n",
    "\n"
   ]
  },
  {
   "cell_type": "code",
   "execution_count": 81,
   "metadata": {},
   "outputs": [
    {
     "name": "stdout",
     "output_type": "stream",
     "text": [
      "<class 'pandas.core.frame.DataFrame'>\n",
      "RangeIndex: 768 entries, 0 to 767\n",
      "Data columns (total 9 columns):\n",
      " #   Column                    Non-Null Count  Dtype  \n",
      "---  ------                    --------------  -----  \n",
      " 0   Pregnancies               768 non-null    int64  \n",
      " 1   Glucose                   768 non-null    int64  \n",
      " 2   BloodPressure             768 non-null    int64  \n",
      " 3   SkinThickness             768 non-null    int64  \n",
      " 4   Insulin                   768 non-null    int64  \n",
      " 5   BMI                       768 non-null    float64\n",
      " 6   DiabetesPedigreeFunction  768 non-null    float64\n",
      " 7   Age                       768 non-null    int64  \n",
      " 8   Outcome                   768 non-null    int64  \n",
      "dtypes: float64(2), int64(7)\n",
      "memory usage: 54.1 KB\n",
      "None\n"
     ]
    },
    {
     "data": {
      "text/html": [
       "<div>\n",
       "<style scoped>\n",
       "    .dataframe tbody tr th:only-of-type {\n",
       "        vertical-align: middle;\n",
       "    }\n",
       "\n",
       "    .dataframe tbody tr th {\n",
       "        vertical-align: top;\n",
       "    }\n",
       "\n",
       "    .dataframe thead th {\n",
       "        text-align: right;\n",
       "    }\n",
       "</style>\n",
       "<table border=\"1\" class=\"dataframe\">\n",
       "  <thead>\n",
       "    <tr style=\"text-align: right;\">\n",
       "      <th></th>\n",
       "      <th>Pregnancies</th>\n",
       "      <th>Glucose</th>\n",
       "      <th>BloodPressure</th>\n",
       "      <th>SkinThickness</th>\n",
       "      <th>Insulin</th>\n",
       "      <th>BMI</th>\n",
       "      <th>DiabetesPedigreeFunction</th>\n",
       "      <th>Age</th>\n",
       "      <th>Outcome</th>\n",
       "    </tr>\n",
       "  </thead>\n",
       "  <tbody>\n",
       "    <tr>\n",
       "      <th>0</th>\n",
       "      <td>6</td>\n",
       "      <td>148</td>\n",
       "      <td>72</td>\n",
       "      <td>35</td>\n",
       "      <td>0</td>\n",
       "      <td>33.6</td>\n",
       "      <td>0.627</td>\n",
       "      <td>50</td>\n",
       "      <td>1</td>\n",
       "    </tr>\n",
       "    <tr>\n",
       "      <th>1</th>\n",
       "      <td>1</td>\n",
       "      <td>85</td>\n",
       "      <td>66</td>\n",
       "      <td>29</td>\n",
       "      <td>0</td>\n",
       "      <td>26.6</td>\n",
       "      <td>0.351</td>\n",
       "      <td>31</td>\n",
       "      <td>0</td>\n",
       "    </tr>\n",
       "    <tr>\n",
       "      <th>2</th>\n",
       "      <td>8</td>\n",
       "      <td>183</td>\n",
       "      <td>64</td>\n",
       "      <td>0</td>\n",
       "      <td>0</td>\n",
       "      <td>23.3</td>\n",
       "      <td>0.672</td>\n",
       "      <td>32</td>\n",
       "      <td>1</td>\n",
       "    </tr>\n",
       "    <tr>\n",
       "      <th>3</th>\n",
       "      <td>1</td>\n",
       "      <td>89</td>\n",
       "      <td>66</td>\n",
       "      <td>23</td>\n",
       "      <td>94</td>\n",
       "      <td>28.1</td>\n",
       "      <td>0.167</td>\n",
       "      <td>21</td>\n",
       "      <td>0</td>\n",
       "    </tr>\n",
       "    <tr>\n",
       "      <th>4</th>\n",
       "      <td>0</td>\n",
       "      <td>137</td>\n",
       "      <td>40</td>\n",
       "      <td>35</td>\n",
       "      <td>168</td>\n",
       "      <td>43.1</td>\n",
       "      <td>2.288</td>\n",
       "      <td>33</td>\n",
       "      <td>1</td>\n",
       "    </tr>\n",
       "  </tbody>\n",
       "</table>\n",
       "</div>"
      ],
      "text/plain": [
       "   Pregnancies  Glucose  BloodPressure  SkinThickness  Insulin   BMI  \\\n",
       "0            6      148             72             35        0  33.6   \n",
       "1            1       85             66             29        0  26.6   \n",
       "2            8      183             64              0        0  23.3   \n",
       "3            1       89             66             23       94  28.1   \n",
       "4            0      137             40             35      168  43.1   \n",
       "\n",
       "   DiabetesPedigreeFunction  Age  Outcome  \n",
       "0                     0.627   50        1  \n",
       "1                     0.351   31        0  \n",
       "2                     0.672   32        1  \n",
       "3                     0.167   21        0  \n",
       "4                     2.288   33        1  "
      ]
     },
     "execution_count": 81,
     "metadata": {},
     "output_type": "execute_result"
    }
   ],
   "source": [
    "diabetes_df = pandas.read_csv('niddk_diabetes_dataset.csv')\n",
    "print(diabetes_df.info())\n",
    "diabetes_df.head()"
   ]
  },
  {
   "cell_type": "code",
   "execution_count": 80,
   "metadata": {},
   "outputs": [
    {
     "data": {
      "text/plain": [
       "[<matplotlib.lines.Line2D at 0x14c90e0e0>]"
      ]
     },
     "execution_count": 80,
     "metadata": {},
     "output_type": "execute_result"
    },
    {
     "data": {
      "image/png": "[encoded data removed]",
      "text/plain": [
       "<Figure size 640x480 with 1 Axes>"
      ]
     },
     "metadata": {},
     "output_type": "display_data"
    }
   ],
   "source": [
    "# simple demo of data exploration: plot two columns against each other.\n",
    "glucose_series=diabetes_df.iloc[:,1]\n",
    "outcome_series=diabetes_df.iloc[:,8]\n",
    "plt.plot(outcome_series, glucose_series, '.')\n",
    "# we will see a more useful graph later. spoiler: seaborn violin plot."
   ]
  },
  {
   "cell_type": "markdown",
   "metadata": {},
   "source": [
    "## Part 7: Seaborn\n",
    "Visualize data, and, in particular, DataFrames"
   ]
  },
  {
   "cell_type": "code",
   "execution_count": 84,
   "metadata": {},
   "outputs": [],
   "source": [
    "import seaborn as sns"
   ]
  },
  {
   "cell_type": "code",
   "execution_count": 86,
   "metadata": {},
   "outputs": [
    {
     "data": {
      "text/plain": [
       "<AxesSubplot:xlabel='Outcome', ylabel='Glucose'>"
      ]
     },
     "execution_count": 86,
     "metadata": {},
     "output_type": "execute_result"
    },
    {
     "data": {
      "image/png": "[encoded data removed]",
      "text/plain": [
       "<Figure size 640x480 with 1 Axes>"
      ]
     },
     "metadata": {},
     "output_type": "display_data"
    }
   ],
   "source": [
    "# niddk_diabetes_dataset.csv from https://www.kaggle.com/datasets/akshaydattatraykhare/diabetes-dataset?resource=download\n",
    "\n",
    "sns.violinplot(data=diabetes_df, x=\"Outcome\", y=\"Glucose\")"
   ]
  },
  {
   "cell_type": "code",
   "execution_count": null,
   "metadata": {},
   "outputs": [],
   "source": []
  }
 ],
 "metadata": {
  "anaconda-cloud": {},
  "kernelspec": {
   "display_name": "Python 3 (ipykernel)",
   "language": "python",
   "name": "python3"
  },
  "language_info": {
   "codemirror_mode": {
    "name": "ipython",
    "version": 3
   },
   "file_extension": ".py",
   "mimetype": "text/x-python",
   "name": "python",
   "nbconvert_exporter": "python",
   "pygments_lexer": "ipython3",
   "version": "3.10.4"
  }
 },
 "nbformat": 4,
 "nbformat_minor": 1
}
