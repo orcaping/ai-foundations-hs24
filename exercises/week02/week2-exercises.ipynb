{
 "cells": [
  {
   "cell_type": "code",
   "execution_count": 2,
   "metadata": {},
   "outputs": [],
   "source": [
    "import numpy as np"
   ]
  },
  {
   "cell_type": "code",
   "execution_count": 24,
   "metadata": {},
   "outputs": [
    {
     "name": "stdout",
     "output_type": "stream",
     "text": [
      "dotProduct Car & Dog 0\n",
      "dotProduct Cat & Dog 0\n"
     ]
    }
   ],
   "source": [
    "# Exercise 1\n",
    "# Calculating the Scalarproduct between 1-Hop Vectors\n",
    "vector_dog = np.array([0,1,0,0,0,0]) \n",
    "vector_cat = np.array([0,0,0,1,0,0])\n",
    "vector_car = np.array([0,0,0,0,1,0])\n",
    "\n",
    "product_car_dog = np.dot(vector_car, vector_dog)\n",
    "print(\"dotProduct Car & Dog\", product_car_dog)\n",
    "\n",
    "product_cat_dog = np.dot(vector_cat, vector_dog)\n",
    "print(\"dotProduct Cat & Dog\", product_cat_dog)\n"
   ]
  },
  {
   "cell_type": "code",
   "execution_count": 5,
   "metadata": {},
   "outputs": [
    {
     "name": "stdout",
     "output_type": "stream",
     "text": [
      "Cosine Apple & Bike 0.34437841283691134\n",
      "Cosine Apple & Orange 0.9740492440449616\n",
      "Normed Apples:  [0.42426407 0.84852814 0.28284271 0.14142136]\n",
      "Normed Orange:  [0.26490647 0.92717265 0.26490647 0.        ]\n",
      "Normed Bike:  [0.09365858 0.         0.74926865 0.65561007]\n",
      "0.9755004763230797\n"
     ]
    }
   ],
   "source": [
    "# Exercise 2\n",
    "# Cosine Ranges from [-1;1]\n",
    "\n",
    "\n",
    "vector_orange = np.array([2,7,2,0])\n",
    "vector_apple = np.array([3,6,2,1])\n",
    "vector_bike = np.array([1,0,8,7])\n",
    "\n",
    "cosine_similarity_apple_bike = np.dot(vector_apple, vector_bike) / (np.linalg.norm(vector_apple) * np.linalg.norm(vector_bike))\n",
    "print(\"Cosine Apple & Bike\", cosine_similarity_apple_bike)\n",
    "\n",
    "cosine_similarity_apple_orange = np.dot(vector_apple, vector_orange) / (np.linalg.norm(vector_apple) * np.linalg.norm(vector_orange))\n",
    "print(\"Cosine Apple & Orange\", cosine_similarity_apple_orange)\n",
    "\n",
    "# Check if a Vector is closer to Fruit or to Vehicles\n",
    "\n",
    "# Norm Vector by dividing the Vector by its Norm\n",
    "normed_apple = vector_apple / np.linalg.norm(vector_apple)\n",
    "print(\"Normed Apples: \", normed_apple)\n",
    "\n",
    "normed_orange = vector_orange / np.linalg.norm(vector_orange)\n",
    "print(\"Normed Orange: \", normed_orange)\n",
    "\n",
    "normed_bike = vector_bike / np.linalg.norm(vector_bike)\n",
    "print(\"Normed Bike: \", normed_bike)\n",
    "\n",
    "unknown_vector = [0,0.9,12,7]\n",
    "normed_unknown_vector = unknown_vector / np.linalg.norm(unknown_vector)\n",
    "\n",
    "comparison = np.dot(normed_unknown_vector, normed_bike)\n",
    "print(comparison)\n"
   ]
  },
  {
   "cell_type": "code",
   "execution_count": null,
   "metadata": {},
   "outputs": [],
   "source": []
  }
 ],
 "metadata": {
  "kernelspec": {
   "display_name": "AIFO24",
   "language": "python",
   "name": "python3"
  },
  "language_info": {
   "codemirror_mode": {
    "name": "ipython",
    "version": 3
   },
   "file_extension": ".py",
   "mimetype": "text/x-python",
   "name": "python",
   "nbconvert_exporter": "python",
   "pygments_lexer": "ipython3",
   "version": "3.12.2"
  }
 },
 "nbformat": 4,
 "nbformat_minor": 2
}
